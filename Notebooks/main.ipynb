{
  "nbformat": 4,
  "nbformat_minor": 0,
  "metadata": {
    "colab": {
      "provenance": []
    },
    "kernelspec": {
      "name": "python3",
      "display_name": "Python 3"
    },
    "language_info": {
      "name": "python"
    }
  },
  "cells": [
    {
      "cell_type": "code",
      "source": [
        "# Libraries\n",
        "import gensim\n",
        "from gensim.models import word2vec\n",
        "import pickle\n",
        "import random\n",
        "import editdistance"
      ],
      "metadata": {
        "id": "Xap7SRzdPCPd"
      },
      "execution_count": null,
      "outputs": []
    },
    {
      "cell_type": "code",
      "execution_count": null,
      "metadata": {
        "colab": {
          "base_uri": "https://localhost:8080/"
        },
        "id": "6vef001wYhmo",
        "outputId": "f3f13e91-0c46-4546-8d0a-98b4c4261ea0"
      },
      "outputs": [
        {
          "output_type": "stream",
          "name": "stdout",
          "text": [
            "Downloading...\n",
            "From: https://drive.google.com/uc?id=1OZ6Mx7SInm_G1nb620a8_FLR4gLMEq5l\n",
            "To: /content/wiki_tr.embedding_300\n",
            "100% 25.4M/25.4M [00:00<00:00, 213MB/s]\n",
            "Downloading...\n",
            "From: https://drive.google.com/uc?id=1OTBfHZ0wEsAUrrrOxFGSnkAuWvk8IHE6\n",
            "To: /content/sorted_lemmas.pkl\n",
            "100% 148k/148k [00:00<00:00, 134MB/s]\n"
          ]
        }
      ],
      "source": [
        "# Documents\n",
        "\n",
        "!gdown 1OZ6Mx7SInm_G1nb620a8_FLR4gLMEq5l # downloads our trained model from google drive, only works on private drive unfortunately.\n",
        "model_300 = gensim.models.Word2Vec.load('wiki_tr.embedding_300') # loads the model\n",
        "\n",
        "!gdown 1OTBfHZ0wEsAUrrrOxFGSnkAuWvk8IHE6 # loads the sorted_lemmas.pkl from google drive\n",
        "with open(\"/content/sorted_lemmas.pkl\", \"rb\") as file:\n",
        "    sorted_lemmas = pickle.load(file)"
      ]
    },
    {
      "cell_type": "code",
      "source": [
        "def get_candidates(given_letters):\n",
        "  \"\"\" The function generates to candidate words according to the given letters. \"\"\"\n",
        "\n",
        "  candidate_words = [[word, value] for word, value in sorted_lemmas if word.startswith(given_letters)]\n",
        "\n",
        "  if not candidate_words:\n",
        "    user_word = input(\"Üzgünüm, verdiğin harflerle başlayan bir kelime bulamadım. Kelimen neydi?\")\n",
        "    for word, count in sorted_lemmas:\n",
        "      potential_words = []\n",
        "      if editdistance.distance(word, user_word) == 1:\n",
        "        potential_words.append(word)\n",
        "        if len(potential_words) < 20:\n",
        "          print(\"Kelimen bunlardan biri olabilir mi acaba? Belki yanlış yazmış olabilirsin. \\n\")\n",
        "          print(potential_words)\n",
        "\n",
        "          user_feedback = input(\"Kelimen bunlardan biri miydi?: (E/H)\").lower\n",
        "          if user_feedback == \"e\":\n",
        "            print(\"O zaman ben kazandım.\")\n",
        "            play_again(computer_guess, used_words, difficulty)\n",
        "            break\n",
        "\n",
        "          elif user_feedback == 'h':\n",
        "            print(\"Tebrik ederim! Oyunu sen kazandın!\")\n",
        "            play_again(computer_guess, used_words, difficulty)\n",
        "            break\n",
        "  \n",
        "  return candidate_words\n",
        "\n",
        "def pick_candidate(candidate_words, difficulty, used_words):\n",
        "  \"\"\" The function picks a guess word from the candidate words list, based on the difficulty level. \"\"\"\n",
        "  candidates = []\n",
        "  for candidate, count in candidate_words:\n",
        "    if candidate not in used_words:\n",
        "      candidates.append(candidate)\n",
        "\n",
        "  if difficulty < 2:\n",
        "    computer_guess = candidates[0]\n",
        "  elif difficulty == 2:\n",
        "    computer_guess = candidates[-1]\n",
        "  \n",
        "  return computer_guess\n",
        "\n",
        "def find_similar_word(computer_guess):\n",
        "  \"\"\" The function finds candidate similar words using the model\"\"\"\n",
        "  similar_words = model_300.wv.similar_by_word(computer_guess, topn=5)\n",
        "  candidate_similars = []\n",
        "  for similar_word, similarity in similar_words:\n",
        "    if similarity >= 0.65:\n",
        "      candidate_similars.append(similar_word)\n",
        "  return candidate_similars\n",
        "\n",
        "def pick_similar_word(candidate_similars, used_words):\n",
        "  \"\"\" The function picks a similar word from the candidate similar words. Also, it filters the previous picked similars \"\"\"\n",
        "  similars = [] \n",
        "  for similar_word in candidate_similars:\n",
        "    if similar_word not in used_words:\n",
        "      similars.append(similar_word)\n",
        "  if not similars:\n",
        "    return None\n",
        "  final_similar = similars[0]\n",
        "  return final_similar\n",
        "\n",
        "def generate_question(final_similar, computer_guess):\n",
        "  \"\"\" The function generates a question and asks it to the user. \"\"\"\n",
        "  \n",
        "  question = f\"Bu {final_similar} ile ilişkili ya da ona yakın bir şey mi?\"\n",
        "  return question\n",
        "\n",
        "def get_letter(given_letters):\n",
        "    \"\"\"\n",
        "    The function gets a letter from the user and adds the given letter to the given letters.\n",
        "    It keeps iterating until a valid letter from A to Z is provided.\n",
        "    \"\"\"\n",
        "    fresh_letter = input(\"Haydi bana bir sonraki harfi söyle: \").lower().strip()\n",
        "    \n",
        "    while not fresh_letter or not fresh_letter.isalpha() or len(fresh_letter) != 1:\n",
        "        fresh_letter = input(\"Bana bir harf söylemelisin (A-Z): \").lower().strip()\n",
        "    \n",
        "    given_letters += fresh_letter\n",
        "    \n",
        "    return given_letters\n",
        "\n",
        "\n",
        "def get_difficulty_level():\n",
        "    \"\"\"The function gets the difficulty level from the user (1, or 2)\"\"\"\n",
        "    while True:\n",
        "        difficulty = input(\"Kolaydan zora bir zorluk seviyesi seçin: (1 ya da 2). : \")\n",
        "        if difficulty in [\"1\", \"2\"]:\n",
        "            return int(difficulty)\n",
        "        print(\"Geçersiz zorluk seviyesi. Lütfen sadece 1'den 2'ye kadar bir rakam girin.\")\n",
        "\n",
        "def get_user_guess(prompt, guess_attempts, computer_guess):\n",
        "    \"\"\"The function ges user_guess within a limited number of attempts.\n",
        "    It also gives clues like \"You are very close!\" when the user_guess is one letter away from the computer_guess or the computer_guess starts with the user_guess.\n",
        "    It also reminds the user the number of attempts left\"\"\"\n",
        "\n",
        "    for attempt in range(guess_attempts):\n",
        "        print(f\"{guess_attempts - attempt} tahmin hakkınız kaldı.\")\n",
        "        user_guess = input(prompt).lower()\n",
        "        if user_guess == computer_guess:\n",
        "            return user_guess\n",
        "        elif computer_guess.startswith(user_guess) and len(user_guess) > 5:\n",
        "          print(\"Çok yaklaştın!\")\n",
        "        elif editdistance.distance(user_guess, computer_guess) == 1:\n",
        "            print(\"Çok yaklaştın!\")\n",
        "        else:\n",
        "            print(\"Yanlış tahmin. Başka bir harfle dene.\")\n",
        "\n",
        "    return False\n",
        "\n",
        "def play_again(computer_guess, used_words, difficulty):\n",
        "    \"\"\"\n",
        "    Asks the user if they want to play again.\n",
        "    If yes, starts a new game loop.\n",
        "    If no, displays a farewell message.\n",
        "    \"\"\"\n",
        "    again = input(\"Tekrar oynamak ister misin? (E/H)\")\n",
        "    if again.lower() == \"e\":\n",
        "        given_letters = input(\"O zaman haydi tekrar bir kelime tut ve ilk harfini söyle.: \")\n",
        "        print(\"Uyarı: Önceki turdaki kelimeleri dahil etmek ya da zorluk seviyesini değiştirmek istersen oyunu kapatıp açabilirsin.\")\n",
        "        game_loop(given_letters, computer_guess, used_words, difficulty)  # Recursive call to start a new game loop\n",
        "    else:\n",
        "        print(\"Pekala o zaman iyi günler!\")\n",
        "\n",
        "def game_loop(given_letters, computer_guess, used_words, difficulty):\n",
        "    \"\"\"The function iterates over the game if the user wants to continue.\"\"\"\n",
        "\n",
        "    guess_attempts = 10 if difficulty == 1 else 5\n",
        "\n",
        "    while True:\n",
        "        candidates = get_candidates(given_letters)\n",
        "        computer_guess = pick_candidate(candidates, difficulty, used_words)\n",
        "        used_words.append(computer_guess)\n",
        "\n",
        "        #print(\"Computer guess:\", computer_guess)\n",
        "        #print(\"used_words\", used_words)\n",
        "\n",
        "        similar_words = find_similar_word(computer_guess)\n",
        "        similar_word = pick_similar_word(similar_words, used_words)\n",
        "        if similar_word is None:\n",
        "            print(\"Üzgünüm, düşündüğüm kelimeyi çağrıştıracak bir kelime bulamadım.\")\n",
        "            play_again(computer_guess, used_words, difficulty)\n",
        "            break\n",
        "        used_words.append(similar_word)\n",
        "\n",
        "        #print(\"used words after similars\", used_words)\n",
        "\n",
        "        question = generate_question(similar_word, computer_guess)\n",
        "        user_guess = get_user_guess(question, guess_attempts, computer_guess)\n",
        "\n",
        "        if user_guess == computer_guess:\n",
        "            print(\"Tebrikler! Kelimemi doğru tahmin ettin. Kazandın!\")\n",
        "            continue\n",
        "\n",
        "        elif user_guess != computer_guess or user_guess == False or user_guess == None:\n",
        "            print(f\"Aklımdan geçen kelime {computer_guess} idi. \\n\")\n",
        "            user_feedback = input(\"Kelimen bu muydu?: (E/H)\").lower()\n",
        "            if user_feedback == \"e\":\n",
        "                print(\"Öyleyse ben kazandım!\")\n",
        "                play_again(computer_guess, used_words, difficulty)\n",
        "                return\n",
        "            elif user_feedback == \"h\":\n",
        "              given_letters = get_letter(given_letters)\n",
        "              guess_attempts = 10 if difficulty == 1 else 5\n",
        "              continue\n",
        "              \n",
        "def play_contact():\n",
        "  \"\"\" Initiates the game \"\"\"\n",
        "\n",
        "  print(\"Kontakt'a hoşgeldin!\")\n",
        "  computer_guess = ''\n",
        "  user_word = ''\n",
        "\n",
        "  given_letters = input(\"Hazırsan başlayalım. Haydi bir kelime tut ve ilk harfini söyle: \")\n",
        "  difficulty = get_difficulty_level()\n",
        "\n",
        "  used_words = []\n",
        "  game_loop(given_letters, computer_guess, used_words, difficulty)"
      ],
      "metadata": {
        "id": "7TpChNRSO0AY"
      },
      "execution_count": null,
      "outputs": []
    },
    {
      "cell_type": "code",
      "source": [
        "play_contact()"
      ],
      "metadata": {
        "id": "dC-rkQMgQFZ3"
      },
      "execution_count": null,
      "outputs": []
    },
    {
      "cell_type": "code",
      "source": [
        "#control groups for some functions\n",
        "#print(find_similar_word(\"parti\"))\n",
        "#print(get_candidates(\"liber\"))"
      ],
      "metadata": {
        "colab": {
          "base_uri": "https://localhost:8080/"
        },
        "id": "Onq85dmU0rKx",
        "outputId": "1c01f493-c0f4-4764-ebab-c2cc7c097fad"
      },
      "execution_count": null,
      "outputs": [
        {
          "output_type": "stream",
          "name": "stdout",
          "text": [
            "['örgüt', 'kongre', 'komünist', 'seçim', 'demokrat']\n",
            "[['libero', 15], ['liberalizm', 13]]\n"
          ]
        }
      ]
    }
  ]
}