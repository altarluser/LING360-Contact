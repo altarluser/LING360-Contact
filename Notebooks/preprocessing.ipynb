{
  "nbformat": 4,
  "nbformat_minor": 0,
  "metadata": {
    "colab": {
      "provenance": [],
      "machine_shape": "hm",
      "gpuType": "T4"
    },
    "kernelspec": {
      "name": "python3",
      "display_name": "Python 3"
    },
    "language_info": {
      "name": "python"
    },
    "gpuClass": "standard",
    "widgets": {
      "application/vnd.jupyter.widget-state+json": {
        "49a5c9586b7d44989614010023d0a74c": {
          "model_module": "@jupyter-widgets/controls",
          "model_name": "HBoxModel",
          "model_module_version": "1.5.0",
          "state": {
            "_dom_classes": [],
            "_model_module": "@jupyter-widgets/controls",
            "_model_module_version": "1.5.0",
            "_model_name": "HBoxModel",
            "_view_count": null,
            "_view_module": "@jupyter-widgets/controls",
            "_view_module_version": "1.5.0",
            "_view_name": "HBoxView",
            "box_style": "",
            "children": [
              "IPY_MODEL_574897812e754a1f8ef30f51c8b33b6b",
              "IPY_MODEL_c9ed24c7fea143cfbd58896cc04b4e24",
              "IPY_MODEL_a0af8cc4700a401eaf81d09c86f2e76a"
            ],
            "layout": "IPY_MODEL_3f358092e29445bfbfef99aeac6efd42"
          }
        },
        "574897812e754a1f8ef30f51c8b33b6b": {
          "model_module": "@jupyter-widgets/controls",
          "model_name": "HTMLModel",
          "model_module_version": "1.5.0",
          "state": {
            "_dom_classes": [],
            "_model_module": "@jupyter-widgets/controls",
            "_model_module_version": "1.5.0",
            "_model_name": "HTMLModel",
            "_view_count": null,
            "_view_module": "@jupyter-widgets/controls",
            "_view_module_version": "1.5.0",
            "_view_name": "HTMLView",
            "description": "",
            "description_tooltip": null,
            "layout": "IPY_MODEL_1b9cf74a67834afca06595b8dd85b0bc",
            "placeholder": "​",
            "style": "IPY_MODEL_28dd449ff2434db58862d2eb0b85e65b",
            "value": "Downloading https://raw.githubusercontent.com/stanfordnlp/stanza-resources/main/resources_1.5.0.json: "
          }
        },
        "c9ed24c7fea143cfbd58896cc04b4e24": {
          "model_module": "@jupyter-widgets/controls",
          "model_name": "FloatProgressModel",
          "model_module_version": "1.5.0",
          "state": {
            "_dom_classes": [],
            "_model_module": "@jupyter-widgets/controls",
            "_model_module_version": "1.5.0",
            "_model_name": "FloatProgressModel",
            "_view_count": null,
            "_view_module": "@jupyter-widgets/controls",
            "_view_module_version": "1.5.0",
            "_view_name": "ProgressView",
            "bar_style": "success",
            "description": "",
            "description_tooltip": null,
            "layout": "IPY_MODEL_25b6571324f34c9b93714e214e041431",
            "max": 30101,
            "min": 0,
            "orientation": "horizontal",
            "style": "IPY_MODEL_5dd6c6d45e3c4268a9013baba6be5fde",
            "value": 30101
          }
        },
        "a0af8cc4700a401eaf81d09c86f2e76a": {
          "model_module": "@jupyter-widgets/controls",
          "model_name": "HTMLModel",
          "model_module_version": "1.5.0",
          "state": {
            "_dom_classes": [],
            "_model_module": "@jupyter-widgets/controls",
            "_model_module_version": "1.5.0",
            "_model_name": "HTMLModel",
            "_view_count": null,
            "_view_module": "@jupyter-widgets/controls",
            "_view_module_version": "1.5.0",
            "_view_name": "HTMLView",
            "description": "",
            "description_tooltip": null,
            "layout": "IPY_MODEL_ed5b05cfacc04aef813e20fd814a8866",
            "placeholder": "​",
            "style": "IPY_MODEL_4130b3b3a09149808db0ae32a49acf4c",
            "value": " 216k/? [00:00&lt;00:00, 12.2MB/s]"
          }
        },
        "3f358092e29445bfbfef99aeac6efd42": {
          "model_module": "@jupyter-widgets/base",
          "model_name": "LayoutModel",
          "model_module_version": "1.2.0",
          "state": {
            "_model_module": "@jupyter-widgets/base",
            "_model_module_version": "1.2.0",
            "_model_name": "LayoutModel",
            "_view_count": null,
            "_view_module": "@jupyter-widgets/base",
            "_view_module_version": "1.2.0",
            "_view_name": "LayoutView",
            "align_content": null,
            "align_items": null,
            "align_self": null,
            "border": null,
            "bottom": null,
            "display": null,
            "flex": null,
            "flex_flow": null,
            "grid_area": null,
            "grid_auto_columns": null,
            "grid_auto_flow": null,
            "grid_auto_rows": null,
            "grid_column": null,
            "grid_gap": null,
            "grid_row": null,
            "grid_template_areas": null,
            "grid_template_columns": null,
            "grid_template_rows": null,
            "height": null,
            "justify_content": null,
            "justify_items": null,
            "left": null,
            "margin": null,
            "max_height": null,
            "max_width": null,
            "min_height": null,
            "min_width": null,
            "object_fit": null,
            "object_position": null,
            "order": null,
            "overflow": null,
            "overflow_x": null,
            "overflow_y": null,
            "padding": null,
            "right": null,
            "top": null,
            "visibility": null,
            "width": null
          }
        },
        "1b9cf74a67834afca06595b8dd85b0bc": {
          "model_module": "@jupyter-widgets/base",
          "model_name": "LayoutModel",
          "model_module_version": "1.2.0",
          "state": {
            "_model_module": "@jupyter-widgets/base",
            "_model_module_version": "1.2.0",
            "_model_name": "LayoutModel",
            "_view_count": null,
            "_view_module": "@jupyter-widgets/base",
            "_view_module_version": "1.2.0",
            "_view_name": "LayoutView",
            "align_content": null,
            "align_items": null,
            "align_self": null,
            "border": null,
            "bottom": null,
            "display": null,
            "flex": null,
            "flex_flow": null,
            "grid_area": null,
            "grid_auto_columns": null,
            "grid_auto_flow": null,
            "grid_auto_rows": null,
            "grid_column": null,
            "grid_gap": null,
            "grid_row": null,
            "grid_template_areas": null,
            "grid_template_columns": null,
            "grid_template_rows": null,
            "height": null,
            "justify_content": null,
            "justify_items": null,
            "left": null,
            "margin": null,
            "max_height": null,
            "max_width": null,
            "min_height": null,
            "min_width": null,
            "object_fit": null,
            "object_position": null,
            "order": null,
            "overflow": null,
            "overflow_x": null,
            "overflow_y": null,
            "padding": null,
            "right": null,
            "top": null,
            "visibility": null,
            "width": null
          }
        },
        "28dd449ff2434db58862d2eb0b85e65b": {
          "model_module": "@jupyter-widgets/controls",
          "model_name": "DescriptionStyleModel",
          "model_module_version": "1.5.0",
          "state": {
            "_model_module": "@jupyter-widgets/controls",
            "_model_module_version": "1.5.0",
            "_model_name": "DescriptionStyleModel",
            "_view_count": null,
            "_view_module": "@jupyter-widgets/base",
            "_view_module_version": "1.2.0",
            "_view_name": "StyleView",
            "description_width": ""
          }
        },
        "25b6571324f34c9b93714e214e041431": {
          "model_module": "@jupyter-widgets/base",
          "model_name": "LayoutModel",
          "model_module_version": "1.2.0",
          "state": {
            "_model_module": "@jupyter-widgets/base",
            "_model_module_version": "1.2.0",
            "_model_name": "LayoutModel",
            "_view_count": null,
            "_view_module": "@jupyter-widgets/base",
            "_view_module_version": "1.2.0",
            "_view_name": "LayoutView",
            "align_content": null,
            "align_items": null,
            "align_self": null,
            "border": null,
            "bottom": null,
            "display": null,
            "flex": null,
            "flex_flow": null,
            "grid_area": null,
            "grid_auto_columns": null,
            "grid_auto_flow": null,
            "grid_auto_rows": null,
            "grid_column": null,
            "grid_gap": null,
            "grid_row": null,
            "grid_template_areas": null,
            "grid_template_columns": null,
            "grid_template_rows": null,
            "height": null,
            "justify_content": null,
            "justify_items": null,
            "left": null,
            "margin": null,
            "max_height": null,
            "max_width": null,
            "min_height": null,
            "min_width": null,
            "object_fit": null,
            "object_position": null,
            "order": null,
            "overflow": null,
            "overflow_x": null,
            "overflow_y": null,
            "padding": null,
            "right": null,
            "top": null,
            "visibility": null,
            "width": null
          }
        },
        "5dd6c6d45e3c4268a9013baba6be5fde": {
          "model_module": "@jupyter-widgets/controls",
          "model_name": "ProgressStyleModel",
          "model_module_version": "1.5.0",
          "state": {
            "_model_module": "@jupyter-widgets/controls",
            "_model_module_version": "1.5.0",
            "_model_name": "ProgressStyleModel",
            "_view_count": null,
            "_view_module": "@jupyter-widgets/base",
            "_view_module_version": "1.2.0",
            "_view_name": "StyleView",
            "bar_color": null,
            "description_width": ""
          }
        },
        "ed5b05cfacc04aef813e20fd814a8866": {
          "model_module": "@jupyter-widgets/base",
          "model_name": "LayoutModel",
          "model_module_version": "1.2.0",
          "state": {
            "_model_module": "@jupyter-widgets/base",
            "_model_module_version": "1.2.0",
            "_model_name": "LayoutModel",
            "_view_count": null,
            "_view_module": "@jupyter-widgets/base",
            "_view_module_version": "1.2.0",
            "_view_name": "LayoutView",
            "align_content": null,
            "align_items": null,
            "align_self": null,
            "border": null,
            "bottom": null,
            "display": null,
            "flex": null,
            "flex_flow": null,
            "grid_area": null,
            "grid_auto_columns": null,
            "grid_auto_flow": null,
            "grid_auto_rows": null,
            "grid_column": null,
            "grid_gap": null,
            "grid_row": null,
            "grid_template_areas": null,
            "grid_template_columns": null,
            "grid_template_rows": null,
            "height": null,
            "justify_content": null,
            "justify_items": null,
            "left": null,
            "margin": null,
            "max_height": null,
            "max_width": null,
            "min_height": null,
            "min_width": null,
            "object_fit": null,
            "object_position": null,
            "order": null,
            "overflow": null,
            "overflow_x": null,
            "overflow_y": null,
            "padding": null,
            "right": null,
            "top": null,
            "visibility": null,
            "width": null
          }
        },
        "4130b3b3a09149808db0ae32a49acf4c": {
          "model_module": "@jupyter-widgets/controls",
          "model_name": "DescriptionStyleModel",
          "model_module_version": "1.5.0",
          "state": {
            "_model_module": "@jupyter-widgets/controls",
            "_model_module_version": "1.5.0",
            "_model_name": "DescriptionStyleModel",
            "_view_count": null,
            "_view_module": "@jupyter-widgets/base",
            "_view_module_version": "1.2.0",
            "_view_name": "StyleView",
            "description_width": ""
          }
        },
        "4b09dfd2e5324a958e67c9cfdb72e834": {
          "model_module": "@jupyter-widgets/controls",
          "model_name": "HBoxModel",
          "model_module_version": "1.5.0",
          "state": {
            "_dom_classes": [],
            "_model_module": "@jupyter-widgets/controls",
            "_model_module_version": "1.5.0",
            "_model_name": "HBoxModel",
            "_view_count": null,
            "_view_module": "@jupyter-widgets/controls",
            "_view_module_version": "1.5.0",
            "_view_name": "HBoxView",
            "box_style": "",
            "children": [
              "IPY_MODEL_4bb8f0ecc2454d43a6bf97a4841eb2d2",
              "IPY_MODEL_d96279e15cb1456d9b4527d74f6b3705",
              "IPY_MODEL_64bb2ab1c0bf415494a5866c0d9ae22d"
            ],
            "layout": "IPY_MODEL_ea21dcde4c764577878d3e3c3e546589"
          }
        },
        "4bb8f0ecc2454d43a6bf97a4841eb2d2": {
          "model_module": "@jupyter-widgets/controls",
          "model_name": "HTMLModel",
          "model_module_version": "1.5.0",
          "state": {
            "_dom_classes": [],
            "_model_module": "@jupyter-widgets/controls",
            "_model_module_version": "1.5.0",
            "_model_name": "HTMLModel",
            "_view_count": null,
            "_view_module": "@jupyter-widgets/controls",
            "_view_module_version": "1.5.0",
            "_view_name": "HTMLView",
            "description": "",
            "description_tooltip": null,
            "layout": "IPY_MODEL_7285e7212e814cb28eec5e18521e5099",
            "placeholder": "​",
            "style": "IPY_MODEL_f88809b5a97846dabba1082318ad9085",
            "value": "Downloading https://huggingface.co/stanfordnlp/stanza-tr/resolve/v1.5.0/models/default.zip: 100%"
          }
        },
        "d96279e15cb1456d9b4527d74f6b3705": {
          "model_module": "@jupyter-widgets/controls",
          "model_name": "FloatProgressModel",
          "model_module_version": "1.5.0",
          "state": {
            "_dom_classes": [],
            "_model_module": "@jupyter-widgets/controls",
            "_model_module_version": "1.5.0",
            "_model_name": "FloatProgressModel",
            "_view_count": null,
            "_view_module": "@jupyter-widgets/controls",
            "_view_module_version": "1.5.0",
            "_view_name": "ProgressView",
            "bar_style": "success",
            "description": "",
            "description_tooltip": null,
            "layout": "IPY_MODEL_cac36d3f19f94db993044dbf3b7953ef",
            "max": 439509888,
            "min": 0,
            "orientation": "horizontal",
            "style": "IPY_MODEL_b9df6a66c7fd48aeadaea6fe59961255",
            "value": 439509888
          }
        },
        "64bb2ab1c0bf415494a5866c0d9ae22d": {
          "model_module": "@jupyter-widgets/controls",
          "model_name": "HTMLModel",
          "model_module_version": "1.5.0",
          "state": {
            "_dom_classes": [],
            "_model_module": "@jupyter-widgets/controls",
            "_model_module_version": "1.5.0",
            "_model_name": "HTMLModel",
            "_view_count": null,
            "_view_module": "@jupyter-widgets/controls",
            "_view_module_version": "1.5.0",
            "_view_name": "HTMLView",
            "description": "",
            "description_tooltip": null,
            "layout": "IPY_MODEL_fac2077bd49548308173939ff2506a0a",
            "placeholder": "​",
            "style": "IPY_MODEL_f4fc589fc7c741a49d5d71c867a8297f",
            "value": " 440M/440M [00:01&lt;00:00, 381MB/s]"
          }
        },
        "ea21dcde4c764577878d3e3c3e546589": {
          "model_module": "@jupyter-widgets/base",
          "model_name": "LayoutModel",
          "model_module_version": "1.2.0",
          "state": {
            "_model_module": "@jupyter-widgets/base",
            "_model_module_version": "1.2.0",
            "_model_name": "LayoutModel",
            "_view_count": null,
            "_view_module": "@jupyter-widgets/base",
            "_view_module_version": "1.2.0",
            "_view_name": "LayoutView",
            "align_content": null,
            "align_items": null,
            "align_self": null,
            "border": null,
            "bottom": null,
            "display": null,
            "flex": null,
            "flex_flow": null,
            "grid_area": null,
            "grid_auto_columns": null,
            "grid_auto_flow": null,
            "grid_auto_rows": null,
            "grid_column": null,
            "grid_gap": null,
            "grid_row": null,
            "grid_template_areas": null,
            "grid_template_columns": null,
            "grid_template_rows": null,
            "height": null,
            "justify_content": null,
            "justify_items": null,
            "left": null,
            "margin": null,
            "max_height": null,
            "max_width": null,
            "min_height": null,
            "min_width": null,
            "object_fit": null,
            "object_position": null,
            "order": null,
            "overflow": null,
            "overflow_x": null,
            "overflow_y": null,
            "padding": null,
            "right": null,
            "top": null,
            "visibility": null,
            "width": null
          }
        },
        "7285e7212e814cb28eec5e18521e5099": {
          "model_module": "@jupyter-widgets/base",
          "model_name": "LayoutModel",
          "model_module_version": "1.2.0",
          "state": {
            "_model_module": "@jupyter-widgets/base",
            "_model_module_version": "1.2.0",
            "_model_name": "LayoutModel",
            "_view_count": null,
            "_view_module": "@jupyter-widgets/base",
            "_view_module_version": "1.2.0",
            "_view_name": "LayoutView",
            "align_content": null,
            "align_items": null,
            "align_self": null,
            "border": null,
            "bottom": null,
            "display": null,
            "flex": null,
            "flex_flow": null,
            "grid_area": null,
            "grid_auto_columns": null,
            "grid_auto_flow": null,
            "grid_auto_rows": null,
            "grid_column": null,
            "grid_gap": null,
            "grid_row": null,
            "grid_template_areas": null,
            "grid_template_columns": null,
            "grid_template_rows": null,
            "height": null,
            "justify_content": null,
            "justify_items": null,
            "left": null,
            "margin": null,
            "max_height": null,
            "max_width": null,
            "min_height": null,
            "min_width": null,
            "object_fit": null,
            "object_position": null,
            "order": null,
            "overflow": null,
            "overflow_x": null,
            "overflow_y": null,
            "padding": null,
            "right": null,
            "top": null,
            "visibility": null,
            "width": null
          }
        },
        "f88809b5a97846dabba1082318ad9085": {
          "model_module": "@jupyter-widgets/controls",
          "model_name": "DescriptionStyleModel",
          "model_module_version": "1.5.0",
          "state": {
            "_model_module": "@jupyter-widgets/controls",
            "_model_module_version": "1.5.0",
            "_model_name": "DescriptionStyleModel",
            "_view_count": null,
            "_view_module": "@jupyter-widgets/base",
            "_view_module_version": "1.2.0",
            "_view_name": "StyleView",
            "description_width": ""
          }
        },
        "cac36d3f19f94db993044dbf3b7953ef": {
          "model_module": "@jupyter-widgets/base",
          "model_name": "LayoutModel",
          "model_module_version": "1.2.0",
          "state": {
            "_model_module": "@jupyter-widgets/base",
            "_model_module_version": "1.2.0",
            "_model_name": "LayoutModel",
            "_view_count": null,
            "_view_module": "@jupyter-widgets/base",
            "_view_module_version": "1.2.0",
            "_view_name": "LayoutView",
            "align_content": null,
            "align_items": null,
            "align_self": null,
            "border": null,
            "bottom": null,
            "display": null,
            "flex": null,
            "flex_flow": null,
            "grid_area": null,
            "grid_auto_columns": null,
            "grid_auto_flow": null,
            "grid_auto_rows": null,
            "grid_column": null,
            "grid_gap": null,
            "grid_row": null,
            "grid_template_areas": null,
            "grid_template_columns": null,
            "grid_template_rows": null,
            "height": null,
            "justify_content": null,
            "justify_items": null,
            "left": null,
            "margin": null,
            "max_height": null,
            "max_width": null,
            "min_height": null,
            "min_width": null,
            "object_fit": null,
            "object_position": null,
            "order": null,
            "overflow": null,
            "overflow_x": null,
            "overflow_y": null,
            "padding": null,
            "right": null,
            "top": null,
            "visibility": null,
            "width": null
          }
        },
        "b9df6a66c7fd48aeadaea6fe59961255": {
          "model_module": "@jupyter-widgets/controls",
          "model_name": "ProgressStyleModel",
          "model_module_version": "1.5.0",
          "state": {
            "_model_module": "@jupyter-widgets/controls",
            "_model_module_version": "1.5.0",
            "_model_name": "ProgressStyleModel",
            "_view_count": null,
            "_view_module": "@jupyter-widgets/base",
            "_view_module_version": "1.2.0",
            "_view_name": "StyleView",
            "bar_color": null,
            "description_width": ""
          }
        },
        "fac2077bd49548308173939ff2506a0a": {
          "model_module": "@jupyter-widgets/base",
          "model_name": "LayoutModel",
          "model_module_version": "1.2.0",
          "state": {
            "_model_module": "@jupyter-widgets/base",
            "_model_module_version": "1.2.0",
            "_model_name": "LayoutModel",
            "_view_count": null,
            "_view_module": "@jupyter-widgets/base",
            "_view_module_version": "1.2.0",
            "_view_name": "LayoutView",
            "align_content": null,
            "align_items": null,
            "align_self": null,
            "border": null,
            "bottom": null,
            "display": null,
            "flex": null,
            "flex_flow": null,
            "grid_area": null,
            "grid_auto_columns": null,
            "grid_auto_flow": null,
            "grid_auto_rows": null,
            "grid_column": null,
            "grid_gap": null,
            "grid_row": null,
            "grid_template_areas": null,
            "grid_template_columns": null,
            "grid_template_rows": null,
            "height": null,
            "justify_content": null,
            "justify_items": null,
            "left": null,
            "margin": null,
            "max_height": null,
            "max_width": null,
            "min_height": null,
            "min_width": null,
            "object_fit": null,
            "object_position": null,
            "order": null,
            "overflow": null,
            "overflow_x": null,
            "overflow_y": null,
            "padding": null,
            "right": null,
            "top": null,
            "visibility": null,
            "width": null
          }
        },
        "f4fc589fc7c741a49d5d71c867a8297f": {
          "model_module": "@jupyter-widgets/controls",
          "model_name": "DescriptionStyleModel",
          "model_module_version": "1.5.0",
          "state": {
            "_model_module": "@jupyter-widgets/controls",
            "_model_module_version": "1.5.0",
            "_model_name": "DescriptionStyleModel",
            "_view_count": null,
            "_view_module": "@jupyter-widgets/base",
            "_view_module_version": "1.2.0",
            "_view_name": "StyleView",
            "description_width": ""
          }
        },
        "bc8c586b114f45b0ba837d179bc6b6ed": {
          "model_module": "@jupyter-widgets/controls",
          "model_name": "HBoxModel",
          "model_module_version": "1.5.0",
          "state": {
            "_dom_classes": [],
            "_model_module": "@jupyter-widgets/controls",
            "_model_module_version": "1.5.0",
            "_model_name": "HBoxModel",
            "_view_count": null,
            "_view_module": "@jupyter-widgets/controls",
            "_view_module_version": "1.5.0",
            "_view_name": "HBoxView",
            "box_style": "",
            "children": [
              "IPY_MODEL_cb2cc475b33b46c3831af8e067bd0d45",
              "IPY_MODEL_77239597c977489f880f244c8dcb0a7c",
              "IPY_MODEL_b36a83825ea04a288c5a94735c44d85f"
            ],
            "layout": "IPY_MODEL_96596f12b8694321adae1320e12c1416"
          }
        },
        "cb2cc475b33b46c3831af8e067bd0d45": {
          "model_module": "@jupyter-widgets/controls",
          "model_name": "HTMLModel",
          "model_module_version": "1.5.0",
          "state": {
            "_dom_classes": [],
            "_model_module": "@jupyter-widgets/controls",
            "_model_module_version": "1.5.0",
            "_model_name": "HTMLModel",
            "_view_count": null,
            "_view_module": "@jupyter-widgets/controls",
            "_view_module_version": "1.5.0",
            "_view_name": "HTMLView",
            "description": "",
            "description_tooltip": null,
            "layout": "IPY_MODEL_0c8125fdc0e0496e8780cdd3e52565fa",
            "placeholder": "​",
            "style": "IPY_MODEL_69a8cde6b06b40d998a49299471b8d3a",
            "value": "Downloading https://raw.githubusercontent.com/stanfordnlp/stanza-resources/main/resources_1.5.0.json: "
          }
        },
        "77239597c977489f880f244c8dcb0a7c": {
          "model_module": "@jupyter-widgets/controls",
          "model_name": "FloatProgressModel",
          "model_module_version": "1.5.0",
          "state": {
            "_dom_classes": [],
            "_model_module": "@jupyter-widgets/controls",
            "_model_module_version": "1.5.0",
            "_model_name": "FloatProgressModel",
            "_view_count": null,
            "_view_module": "@jupyter-widgets/controls",
            "_view_module_version": "1.5.0",
            "_view_name": "ProgressView",
            "bar_style": "success",
            "description": "",
            "description_tooltip": null,
            "layout": "IPY_MODEL_eca216900d9d454c8be4907a0d6dd2ac",
            "max": 30101,
            "min": 0,
            "orientation": "horizontal",
            "style": "IPY_MODEL_f75370d1d5c74721ae03a7b6de10e3f7",
            "value": 30101
          }
        },
        "b36a83825ea04a288c5a94735c44d85f": {
          "model_module": "@jupyter-widgets/controls",
          "model_name": "HTMLModel",
          "model_module_version": "1.5.0",
          "state": {
            "_dom_classes": [],
            "_model_module": "@jupyter-widgets/controls",
            "_model_module_version": "1.5.0",
            "_model_name": "HTMLModel",
            "_view_count": null,
            "_view_module": "@jupyter-widgets/controls",
            "_view_module_version": "1.5.0",
            "_view_name": "HTMLView",
            "description": "",
            "description_tooltip": null,
            "layout": "IPY_MODEL_669a4d3537794bc8bc8aad5f626da75e",
            "placeholder": "​",
            "style": "IPY_MODEL_d171fa7567154457ab539642d040a2c6",
            "value": " 216k/? [00:00&lt;00:00, 12.7MB/s]"
          }
        },
        "96596f12b8694321adae1320e12c1416": {
          "model_module": "@jupyter-widgets/base",
          "model_name": "LayoutModel",
          "model_module_version": "1.2.0",
          "state": {
            "_model_module": "@jupyter-widgets/base",
            "_model_module_version": "1.2.0",
            "_model_name": "LayoutModel",
            "_view_count": null,
            "_view_module": "@jupyter-widgets/base",
            "_view_module_version": "1.2.0",
            "_view_name": "LayoutView",
            "align_content": null,
            "align_items": null,
            "align_self": null,
            "border": null,
            "bottom": null,
            "display": null,
            "flex": null,
            "flex_flow": null,
            "grid_area": null,
            "grid_auto_columns": null,
            "grid_auto_flow": null,
            "grid_auto_rows": null,
            "grid_column": null,
            "grid_gap": null,
            "grid_row": null,
            "grid_template_areas": null,
            "grid_template_columns": null,
            "grid_template_rows": null,
            "height": null,
            "justify_content": null,
            "justify_items": null,
            "left": null,
            "margin": null,
            "max_height": null,
            "max_width": null,
            "min_height": null,
            "min_width": null,
            "object_fit": null,
            "object_position": null,
            "order": null,
            "overflow": null,
            "overflow_x": null,
            "overflow_y": null,
            "padding": null,
            "right": null,
            "top": null,
            "visibility": null,
            "width": null
          }
        },
        "0c8125fdc0e0496e8780cdd3e52565fa": {
          "model_module": "@jupyter-widgets/base",
          "model_name": "LayoutModel",
          "model_module_version": "1.2.0",
          "state": {
            "_model_module": "@jupyter-widgets/base",
            "_model_module_version": "1.2.0",
            "_model_name": "LayoutModel",
            "_view_count": null,
            "_view_module": "@jupyter-widgets/base",
            "_view_module_version": "1.2.0",
            "_view_name": "LayoutView",
            "align_content": null,
            "align_items": null,
            "align_self": null,
            "border": null,
            "bottom": null,
            "display": null,
            "flex": null,
            "flex_flow": null,
            "grid_area": null,
            "grid_auto_columns": null,
            "grid_auto_flow": null,
            "grid_auto_rows": null,
            "grid_column": null,
            "grid_gap": null,
            "grid_row": null,
            "grid_template_areas": null,
            "grid_template_columns": null,
            "grid_template_rows": null,
            "height": null,
            "justify_content": null,
            "justify_items": null,
            "left": null,
            "margin": null,
            "max_height": null,
            "max_width": null,
            "min_height": null,
            "min_width": null,
            "object_fit": null,
            "object_position": null,
            "order": null,
            "overflow": null,
            "overflow_x": null,
            "overflow_y": null,
            "padding": null,
            "right": null,
            "top": null,
            "visibility": null,
            "width": null
          }
        },
        "69a8cde6b06b40d998a49299471b8d3a": {
          "model_module": "@jupyter-widgets/controls",
          "model_name": "DescriptionStyleModel",
          "model_module_version": "1.5.0",
          "state": {
            "_model_module": "@jupyter-widgets/controls",
            "_model_module_version": "1.5.0",
            "_model_name": "DescriptionStyleModel",
            "_view_count": null,
            "_view_module": "@jupyter-widgets/base",
            "_view_module_version": "1.2.0",
            "_view_name": "StyleView",
            "description_width": ""
          }
        },
        "eca216900d9d454c8be4907a0d6dd2ac": {
          "model_module": "@jupyter-widgets/base",
          "model_name": "LayoutModel",
          "model_module_version": "1.2.0",
          "state": {
            "_model_module": "@jupyter-widgets/base",
            "_model_module_version": "1.2.0",
            "_model_name": "LayoutModel",
            "_view_count": null,
            "_view_module": "@jupyter-widgets/base",
            "_view_module_version": "1.2.0",
            "_view_name": "LayoutView",
            "align_content": null,
            "align_items": null,
            "align_self": null,
            "border": null,
            "bottom": null,
            "display": null,
            "flex": null,
            "flex_flow": null,
            "grid_area": null,
            "grid_auto_columns": null,
            "grid_auto_flow": null,
            "grid_auto_rows": null,
            "grid_column": null,
            "grid_gap": null,
            "grid_row": null,
            "grid_template_areas": null,
            "grid_template_columns": null,
            "grid_template_rows": null,
            "height": null,
            "justify_content": null,
            "justify_items": null,
            "left": null,
            "margin": null,
            "max_height": null,
            "max_width": null,
            "min_height": null,
            "min_width": null,
            "object_fit": null,
            "object_position": null,
            "order": null,
            "overflow": null,
            "overflow_x": null,
            "overflow_y": null,
            "padding": null,
            "right": null,
            "top": null,
            "visibility": null,
            "width": null
          }
        },
        "f75370d1d5c74721ae03a7b6de10e3f7": {
          "model_module": "@jupyter-widgets/controls",
          "model_name": "ProgressStyleModel",
          "model_module_version": "1.5.0",
          "state": {
            "_model_module": "@jupyter-widgets/controls",
            "_model_module_version": "1.5.0",
            "_model_name": "ProgressStyleModel",
            "_view_count": null,
            "_view_module": "@jupyter-widgets/base",
            "_view_module_version": "1.2.0",
            "_view_name": "StyleView",
            "bar_color": null,
            "description_width": ""
          }
        },
        "669a4d3537794bc8bc8aad5f626da75e": {
          "model_module": "@jupyter-widgets/base",
          "model_name": "LayoutModel",
          "model_module_version": "1.2.0",
          "state": {
            "_model_module": "@jupyter-widgets/base",
            "_model_module_version": "1.2.0",
            "_model_name": "LayoutModel",
            "_view_count": null,
            "_view_module": "@jupyter-widgets/base",
            "_view_module_version": "1.2.0",
            "_view_name": "LayoutView",
            "align_content": null,
            "align_items": null,
            "align_self": null,
            "border": null,
            "bottom": null,
            "display": null,
            "flex": null,
            "flex_flow": null,
            "grid_area": null,
            "grid_auto_columns": null,
            "grid_auto_flow": null,
            "grid_auto_rows": null,
            "grid_column": null,
            "grid_gap": null,
            "grid_row": null,
            "grid_template_areas": null,
            "grid_template_columns": null,
            "grid_template_rows": null,
            "height": null,
            "justify_content": null,
            "justify_items": null,
            "left": null,
            "margin": null,
            "max_height": null,
            "max_width": null,
            "min_height": null,
            "min_width": null,
            "object_fit": null,
            "object_position": null,
            "order": null,
            "overflow": null,
            "overflow_x": null,
            "overflow_y": null,
            "padding": null,
            "right": null,
            "top": null,
            "visibility": null,
            "width": null
          }
        },
        "d171fa7567154457ab539642d040a2c6": {
          "model_module": "@jupyter-widgets/controls",
          "model_name": "DescriptionStyleModel",
          "model_module_version": "1.5.0",
          "state": {
            "_model_module": "@jupyter-widgets/controls",
            "_model_module_version": "1.5.0",
            "_model_name": "DescriptionStyleModel",
            "_view_count": null,
            "_view_module": "@jupyter-widgets/base",
            "_view_module_version": "1.2.0",
            "_view_name": "StyleView",
            "description_width": ""
          }
        }
      }
    }
  },
  "cells": [
    {
      "cell_type": "code",
      "source": [
        "#libraries and initial settings\n",
        "!pip install tqdm \n",
        "from tqdm import tqdm\n",
        "import os\n",
        "\n",
        "from collections import defaultdict\n",
        "from collections import Counter\n",
        "\n",
        "import re\n",
        "import nltk\n",
        "from nltk.corpus import stopwords\n",
        "from nltk.tokenize import sent_tokenize, word_tokenize\n",
        "\"\"\" needed sent_tokenize too because word2vec wants to be trained with a list of sentences. it also accepts sentences as list so sent_tokenize splits each sentence as a sublist\"\"\"\n",
        "\n",
        "nltk.download('punkt')\n",
        "nltk.download('stopwords')\n",
        "stop_words = set(stopwords.words('turkish'))\n",
        "\n",
        "!pip install stanza\n",
        "import stanza\n",
        "stanza.download('tr')\n",
        "\"\"\" Stanza's turkish model was extremely helpful for this task to get the PoS-tag and lemma of each word; however, it appears to that it is kinda slow since the preprocessing took 5 hours.\"\"\"\n",
        "\n",
        "import gensim\n",
        "from gensim.models import word2vec\n",
        "from gensim.models.word2vec import LineSentence\n",
        "\"\"\" to train the model \"\"\"\n",
        "\n",
        "#!gdown 1N27pZ9u70Sqc6O0OVkAUq7YLu3IApm_8 # downloads the corpus from google drive. but realized it only works on private drive."
      ],
      "metadata": {
        "id": "OEp1SaziNWFE",
        "colab": {
          "base_uri": "https://localhost:8080/",
          "height": 875,
          "referenced_widgets": [
            "49a5c9586b7d44989614010023d0a74c",
            "574897812e754a1f8ef30f51c8b33b6b",
            "c9ed24c7fea143cfbd58896cc04b4e24",
            "a0af8cc4700a401eaf81d09c86f2e76a",
            "3f358092e29445bfbfef99aeac6efd42",
            "1b9cf74a67834afca06595b8dd85b0bc",
            "28dd449ff2434db58862d2eb0b85e65b",
            "25b6571324f34c9b93714e214e041431",
            "5dd6c6d45e3c4268a9013baba6be5fde",
            "ed5b05cfacc04aef813e20fd814a8866",
            "4130b3b3a09149808db0ae32a49acf4c",
            "4b09dfd2e5324a958e67c9cfdb72e834",
            "4bb8f0ecc2454d43a6bf97a4841eb2d2",
            "d96279e15cb1456d9b4527d74f6b3705",
            "64bb2ab1c0bf415494a5866c0d9ae22d",
            "ea21dcde4c764577878d3e3c3e546589",
            "7285e7212e814cb28eec5e18521e5099",
            "f88809b5a97846dabba1082318ad9085",
            "cac36d3f19f94db993044dbf3b7953ef",
            "b9df6a66c7fd48aeadaea6fe59961255",
            "fac2077bd49548308173939ff2506a0a",
            "f4fc589fc7c741a49d5d71c867a8297f"
          ]
        },
        "outputId": "22e9b91f-6b68-4418-a467-140be49a3100"
      },
      "execution_count": 1,
      "outputs": [
        {
          "output_type": "stream",
          "name": "stdout",
          "text": [
            "Looking in indexes: https://pypi.org/simple, https://us-python.pkg.dev/colab-wheels/public/simple/\n",
            "Requirement already satisfied: tqdm in /usr/local/lib/python3.10/dist-packages (4.65.0)\n"
          ]
        },
        {
          "output_type": "stream",
          "name": "stderr",
          "text": [
            "[nltk_data] Downloading package punkt to /root/nltk_data...\n",
            "[nltk_data]   Unzipping tokenizers/punkt.zip.\n",
            "[nltk_data] Downloading package stopwords to /root/nltk_data...\n",
            "[nltk_data]   Unzipping corpora/stopwords.zip.\n"
          ]
        },
        {
          "output_type": "stream",
          "name": "stdout",
          "text": [
            "Looking in indexes: https://pypi.org/simple, https://us-python.pkg.dev/colab-wheels/public/simple/\n",
            "Collecting stanza\n",
            "  Downloading stanza-1.5.0-py3-none-any.whl (802 kB)\n",
            "\u001b[2K     \u001b[90m━━━━━━━━━━━━━━━━━━━━━━━━━━━━━━━━━━━━━━\u001b[0m \u001b[32m802.5/802.5 kB\u001b[0m \u001b[31m29.2 MB/s\u001b[0m eta \u001b[36m0:00:00\u001b[0m\n",
            "\u001b[?25hCollecting emoji (from stanza)\n",
            "  Downloading emoji-2.4.0.tar.gz (353 kB)\n",
            "\u001b[2K     \u001b[90m━━━━━━━━━━━━━━━━━━━━━━━━━━━━━━━━━━━━━━\u001b[0m \u001b[32m353.7/353.7 kB\u001b[0m \u001b[31m34.6 MB/s\u001b[0m eta \u001b[36m0:00:00\u001b[0m\n",
            "\u001b[?25h  Preparing metadata (setup.py) ... \u001b[?25l\u001b[?25hdone\n",
            "Requirement already satisfied: numpy in /usr/local/lib/python3.10/dist-packages (from stanza) (1.22.4)\n",
            "Requirement already satisfied: protobuf in /usr/local/lib/python3.10/dist-packages (from stanza) (3.20.3)\n",
            "Requirement already satisfied: requests in /usr/local/lib/python3.10/dist-packages (from stanza) (2.27.1)\n",
            "Requirement already satisfied: six in /usr/local/lib/python3.10/dist-packages (from stanza) (1.16.0)\n",
            "Requirement already satisfied: torch>=1.3.0 in /usr/local/lib/python3.10/dist-packages (from stanza) (2.0.1+cu118)\n",
            "Requirement already satisfied: tqdm in /usr/local/lib/python3.10/dist-packages (from stanza) (4.65.0)\n",
            "Requirement already satisfied: filelock in /usr/local/lib/python3.10/dist-packages (from torch>=1.3.0->stanza) (3.12.0)\n",
            "Requirement already satisfied: typing-extensions in /usr/local/lib/python3.10/dist-packages (from torch>=1.3.0->stanza) (4.5.0)\n",
            "Requirement already satisfied: sympy in /usr/local/lib/python3.10/dist-packages (from torch>=1.3.0->stanza) (1.11.1)\n",
            "Requirement already satisfied: networkx in /usr/local/lib/python3.10/dist-packages (from torch>=1.3.0->stanza) (3.1)\n",
            "Requirement already satisfied: jinja2 in /usr/local/lib/python3.10/dist-packages (from torch>=1.3.0->stanza) (3.1.2)\n",
            "Requirement already satisfied: triton==2.0.0 in /usr/local/lib/python3.10/dist-packages (from torch>=1.3.0->stanza) (2.0.0)\n",
            "Requirement already satisfied: cmake in /usr/local/lib/python3.10/dist-packages (from triton==2.0.0->torch>=1.3.0->stanza) (3.25.2)\n",
            "Requirement already satisfied: lit in /usr/local/lib/python3.10/dist-packages (from triton==2.0.0->torch>=1.3.0->stanza) (16.0.5)\n",
            "Requirement already satisfied: urllib3<1.27,>=1.21.1 in /usr/local/lib/python3.10/dist-packages (from requests->stanza) (1.26.15)\n",
            "Requirement already satisfied: certifi>=2017.4.17 in /usr/local/lib/python3.10/dist-packages (from requests->stanza) (2022.12.7)\n",
            "Requirement already satisfied: charset-normalizer~=2.0.0 in /usr/local/lib/python3.10/dist-packages (from requests->stanza) (2.0.12)\n",
            "Requirement already satisfied: idna<4,>=2.5 in /usr/local/lib/python3.10/dist-packages (from requests->stanza) (3.4)\n",
            "Requirement already satisfied: MarkupSafe>=2.0 in /usr/local/lib/python3.10/dist-packages (from jinja2->torch>=1.3.0->stanza) (2.1.2)\n",
            "Requirement already satisfied: mpmath>=0.19 in /usr/local/lib/python3.10/dist-packages (from sympy->torch>=1.3.0->stanza) (1.3.0)\n",
            "Building wheels for collected packages: emoji\n",
            "  Building wheel for emoji (setup.py) ... \u001b[?25l\u001b[?25hdone\n",
            "  Created wheel for emoji: filename=emoji-2.4.0-py2.py3-none-any.whl size=350809 sha256=ac92a2981307838031ccfbe1ba53a0f06ebd60185a0790a120ca8d5002ce5668\n",
            "  Stored in directory: /root/.cache/pip/wheels/79/29/1c/234cae4632803c2ba4a76a71a679eb1383cf590775714e2a21\n",
            "Successfully built emoji\n",
            "Installing collected packages: emoji, stanza\n",
            "Successfully installed emoji-2.4.0 stanza-1.5.0\n"
          ]
        },
        {
          "output_type": "display_data",
          "data": {
            "text/plain": [
              "Downloading https://raw.githubusercontent.com/stanfordnlp/stanza-resources/main/resources_1.5.0.json:   0%|   …"
            ],
            "application/vnd.jupyter.widget-view+json": {
              "version_major": 2,
              "version_minor": 0,
              "model_id": "49a5c9586b7d44989614010023d0a74c"
            }
          },
          "metadata": {}
        },
        {
          "output_type": "stream",
          "name": "stderr",
          "text": [
            "INFO:stanza:Downloading default packages for language: tr (Turkish) ...\n"
          ]
        },
        {
          "output_type": "display_data",
          "data": {
            "text/plain": [
              "Downloading https://huggingface.co/stanfordnlp/stanza-tr/resolve/v1.5.0/models/default.zip:   0%|          | 0…"
            ],
            "application/vnd.jupyter.widget-view+json": {
              "version_major": 2,
              "version_minor": 0,
              "model_id": "4b09dfd2e5324a958e67c9cfdb72e834"
            }
          },
          "metadata": {}
        },
        {
          "output_type": "stream",
          "name": "stderr",
          "text": [
            "INFO:stanza:Finished downloading models and saved to /root/stanza_resources.\n"
          ]
        },
        {
          "output_type": "stream",
          "name": "stdout",
          "text": [
            "Downloading...\n",
            "From: https://drive.google.com/uc?id=1N27pZ9u70Sqc6O0OVkAUq7YLu3IApm_8\n",
            "To: /content/wiki.tr.txt\n",
            "\r  0% 0.00/10.9M [00:00<?, ?B/s]\r100% 10.9M/10.9M [00:00<00:00, 129MB/s]\n"
          ]
        }
      ]
    },
    {
      "cell_type": "code",
      "source": [
        "\"\"\"\n",
        "The code below reads the corpus and saves as a string 'wiki_tr_corpus'. I utilized tqdm and os to see the progress.\n",
        "\"\"\"\n",
        "\n",
        "wiki_tr = \"/content/wiki.tr.txt\"\n",
        "\n",
        "file_size = os.path.getsize(wiki_tr)\n",
        "with tqdm(total=file_size, unit='B', unit_scale=True, desc='Loading the corpus') as pbar:\n",
        "  with open(wiki_tr, 'r') as f:\n",
        "    wiki_tr_corpus = f.read()\n",
        "    pbar.update(len(wiki_tr_corpus.encode('utf-8')))"
      ],
      "metadata": {
        "colab": {
          "base_uri": "https://localhost:8080/"
        },
        "id": "ontPu7_AdgnX",
        "outputId": "30310845-2025-4d04-c61f-41b4438d3315"
      },
      "execution_count": 39,
      "outputs": [
        {
          "output_type": "stream",
          "name": "stderr",
          "text": [
            "Loading the corpus: 100%|██████████| 10.9M/10.9M [00:00<00:00, 144MB/s]\n"
          ]
        }
      ]
    },
    {
      "cell_type": "code",
      "source": [
        "def is_verb(pos):\n",
        "  \"\"\"\n",
        "  The function checks whether the word is a verb. If it is not a verb, it returns False, otherwise it returns its parts of speech (V).\n",
        "  \"\"\"\n",
        "  return pos.startswith('V') \n",
        "\n",
        "def find_last_vowel(lemma):\n",
        "    \"\"\"\n",
        "    The function detects the last_vowel of a lemma.\n",
        "    \"\"\"\n",
        "    vowels = ['a', 'e', 'ı', 'i', 'o', 'ö', 'u', 'ü']\n",
        "    for i in range(len(lemma)-1, -1, -1):\n",
        "        if lemma[i] in vowels:\n",
        "            last_vowel = lemma[i]\n",
        "            break  # Exit the loop after finding the last vowel\n",
        "    return last_vowel\n",
        "\n",
        "def add_infinitival_marker(lemma, last_vowel):\n",
        "  \"\"\" \n",
        "  The function takes the lemma and its last_vowel, and it adds infinitival marker if it is a verbal lemma\n",
        "  \"\"\"\n",
        "  front_vowels = ['e', 'i', 'ü', 'ö']\n",
        "  back_vowels = ['a', 'ı', 'u', 'o']\n",
        "  \n",
        "  if last_vowel in back_vowels:\n",
        "      return lemma + 'mak'\n",
        "  elif last_vowel in front_vowels:\n",
        "      return lemma + 'mek'\n",
        "  else:\n",
        "      return lemma\n",
        "\n",
        "nlp = stanza.Pipeline('tr', processors='tokenize,mwt,pos,lemma', use_gpu=False)  # stanza pipeline for Turkish\n",
        "\n",
        "def preprocessing(corpus):\n",
        "  \"\"\"\n",
        "  Takes the corpus and returns sentences with lemmas and infinitival markers for verbs.\n",
        "  \"\"\"\n",
        "  sentences = [] \n",
        "\n",
        "  raw_sentences = sent_tokenize(corpus) # splits the corpus by sentence boundaries\n",
        "  for raw_sentence in raw_sentences:\n",
        "    tokens = nltk.word_tokenize(raw_sentence) # tokenizes each sentence\n",
        "    cleaned_tokens = [token.lower() for token in tokens if token.lower() not in stop_words] # removes the stop words and returns the lowered version of tokens\n",
        "    cleaned_words = [token for token in cleaned_tokens if len(token) > 1 and (token.isalpha() or token.isnumeric()) and token != '.'] # deletes a token if it's not longer than a letter and not alphanumeric.\n",
        "\n",
        "    doc = nlp(' '.join(cleaned_words)) # applies the stanza pipeline into cleaned_words\n",
        "    lemma_sentence = [] # to store lemmatized sentences\n",
        "    for sentence in doc.sentences:\n",
        "      for word in sentence.words:\n",
        "        if is_verb(word.upos): \n",
        "          last_vowel = find_last_vowel(word.lemma) # finds the last vowel of a verb\n",
        "          if last_vowel: \n",
        "            lemma_with_marker = add_infinitival_marker(word.lemma, last_vowel) \n",
        "            lemma_sentence.append(lemma_with_marker)\n",
        "        else:\n",
        "          lemma_sentence.append(word.lemma)\n",
        "\n",
        "    if lemma_sentence:\n",
        "        sentences.append(lemma_sentence)\n",
        "\n",
        "  return sentences"
      ],
      "metadata": {
        "id": "rYVUJi83wA3G",
        "colab": {
          "base_uri": "https://localhost:8080/",
          "height": 349,
          "referenced_widgets": [
            "bc8c586b114f45b0ba837d179bc6b6ed",
            "cb2cc475b33b46c3831af8e067bd0d45",
            "77239597c977489f880f244c8dcb0a7c",
            "b36a83825ea04a288c5a94735c44d85f",
            "96596f12b8694321adae1320e12c1416",
            "0c8125fdc0e0496e8780cdd3e52565fa",
            "69a8cde6b06b40d998a49299471b8d3a",
            "eca216900d9d454c8be4907a0d6dd2ac",
            "f75370d1d5c74721ae03a7b6de10e3f7",
            "669a4d3537794bc8bc8aad5f626da75e",
            "d171fa7567154457ab539642d040a2c6"
          ]
        },
        "outputId": "e4948b5c-fec2-4e79-a8fb-bcff9b135fec"
      },
      "execution_count": 2,
      "outputs": [
        {
          "output_type": "stream",
          "name": "stderr",
          "text": [
            "INFO:stanza:Checking for updates to resources.json in case models have been updated.  Note: this behavior can be turned off with download_method=None or download_method=DownloadMethod.REUSE_RESOURCES\n"
          ]
        },
        {
          "output_type": "display_data",
          "data": {
            "text/plain": [
              "Downloading https://raw.githubusercontent.com/stanfordnlp/stanza-resources/main/resources_1.5.0.json:   0%|   …"
            ],
            "application/vnd.jupyter.widget-view+json": {
              "version_major": 2,
              "version_minor": 0,
              "model_id": "bc8c586b114f45b0ba837d179bc6b6ed"
            }
          },
          "metadata": {}
        },
        {
          "output_type": "stream",
          "name": "stderr",
          "text": [
            "INFO:stanza:Loading these models for language: tr (Turkish):\n",
            "=======================\n",
            "| Processor | Package |\n",
            "-----------------------\n",
            "| tokenize  | imst    |\n",
            "| mwt       | imst    |\n",
            "| pos       | imst    |\n",
            "| lemma     | imst    |\n",
            "=======================\n",
            "\n",
            "INFO:stanza:Using device: cpu\n",
            "INFO:stanza:Loading: tokenize\n",
            "INFO:stanza:Loading: mwt\n",
            "INFO:stanza:Loading: pos\n",
            "INFO:stanza:Loading: lemma\n",
            "INFO:stanza:Done loading processors!\n"
          ]
        }
      ]
    },
    {
      "cell_type": "code",
      "source": [
        "#control tests\n",
        "\n",
        "word_list = [\"deneme\", \"yapalım\", \"test\", \"türkiye\", \"ölürüm\"]\n",
        "verb_lemma_list = [\"yap\", \"öl\"]\n",
        "\n",
        "for word in word_list:\n",
        "    doc = nlp(word)\n",
        "    upos = doc.sentences[0].words[0].upos\n",
        "    result = is_verb(upos)\n",
        "    print(f\"{word}: {result}\")\n",
        "\n",
        "for word in word_list:\n",
        "  print(f\"{word} ---> {find_last_vowel(word)}\")\n",
        "\n",
        "for lemma in verb_lemma_list: \n",
        "  print(f\"{lemma} ---> {add_infinitival_marker(lemma, find_last_vowel(lemma))}\")\n",
        "\n",
        "preprocessing(\"deneme yapalım bakalım. test deneme türkiye ölürüm sana. vazgeçtim belki de ölmem\")"
      ],
      "metadata": {
        "colab": {
          "base_uri": "https://localhost:8080/"
        },
        "id": "lYxWetU7bAyg",
        "outputId": "0eec1612-5094-40b0-c743-96ad9c7bab5c"
      },
      "execution_count": 68,
      "outputs": [
        {
          "output_type": "stream",
          "name": "stdout",
          "text": [
            "deneme: True\n",
            "yapalım: True\n",
            "test: False\n",
            "türkiye: False\n",
            "ölürüm: True\n",
            "deneme ---> e\n",
            "yapalım ---> ı\n",
            "test ---> e\n",
            "türkiye ---> e\n",
            "ölürüm ---> ü\n",
            "yap ---> yapmak\n",
            "öl ---> ölmek\n"
          ]
        },
        {
          "output_type": "execute_result",
          "data": {
            "text/plain": [
              "[['deneme', 'yapmak', 'bakmak'],\n",
              " ['test', 'denemek', 'türkiye', 'ölmek', 'sen'],\n",
              " ['vazgeçmek', 'ölmek']]"
            ]
          },
          "metadata": {},
          "execution_count": 68
        }
      ]
    },
    {
      "cell_type": "code",
      "source": [
        "\"\"\"\n",
        "The code below seems to be complex yet it has a useful back-up system in case of any crash while using Colab.\n",
        "\"\"\"\n",
        "\n",
        "import pickle\n",
        "\n",
        "batch_size = 100000\n",
        "batches = [wiki_tr_corpus[i:i+batch_size] for i in range(0, len(wiki_tr_corpus), batch_size)]\n",
        "normal_corpus = []\n",
        "\n",
        "start_from_batch = 0  # Variable to store the index of the last processed batch\n",
        "\n",
        "try:\n",
        "    # Load the saved batches if available\n",
        "    with open(\"saved_batches.pkl\", \"rb\") as f:\n",
        "        saved_batches = pickle.load(f)\n",
        "        normal_corpus.extend(saved_batches)\n",
        "        start_from_batch = len(saved_batches)\n",
        "except FileNotFoundError:\n",
        "    saved_batches = []\n",
        "\n",
        "for i in tqdm(range(start_from_batch, len(batches)), desc='Processing Batches'):\n",
        "    batch = batches[i]\n",
        "    batch_lemmas = preprocessing(batch)\n",
        "    normal_corpus.extend(batch_lemmas)\n",
        "\n",
        "    # Save the processed batch\n",
        "    saved_batches.extend(batch_lemmas)\n",
        "    with open(\"saved_batches.pkl\", \"wb\") as f:\n",
        "        pickle.dump(saved_batches, f)\n",
        "\n",
        "# Cleanup the saved batches file after completing all the processing\n",
        "if os.path.exists(\"saved_batches.pkl\"):\n",
        "    os.remove(\"saved_batches.pkl\")"
      ],
      "metadata": {
        "colab": {
          "base_uri": "https://localhost:8080/"
        },
        "id": "70_0Rn3AMagm",
        "outputId": "8f4d687c-bd59-4be8-dce1-0b6b0ef78948"
      },
      "execution_count": null,
      "outputs": [
        {
          "output_type": "stream",
          "name": "stderr",
          "text": [
            "Processing Batches: 100%|██████████| 100/100 [5:01:41<00:00, 181.01s/it]\n"
          ]
        }
      ]
    },
    {
      "cell_type": "code",
      "source": [
        "#Postprocessing\n",
        "\"\"\" We need to do a postprocess because we forgot deleting suffixes after apostrophes. Those suffixes were recognized as tokens.\n",
        "Also some english words are found in the corpus. We will delete them by checking each word in english nltk dictionary.  \"\"\"\n",
        "\n",
        "\"\"\" The following lines checks for non-words and unintended words like pronouns.\n",
        " The output list will be used to filter them from the corpus. \"\"\"\n",
        "\n",
        "tokens = [token for sentence in normal_corpus for token in sentence if len(token) > 1] # necessary since normal_corpus has many sublists\n",
        "\n",
        "token_count = Counter(tokens) # to count the occurences of items\n",
        "sorted_tokens = sorted(token_count.items(), key=lambda x: x[1], reverse=True) # sorts the tokens by frequency\n",
        "sorted_tokens = [token for token in sorted_tokens if token[1] >= 5] # removes the tokens whose count is below 5\n",
        "\n",
        "suspected_affixes = []\n",
        "for token, count in sorted_tokens:\n",
        "  if len(token) < 4:\n",
        "    suspected_affixes.append((token, count))\n",
        "\n",
        "suspected_non_words = []\n",
        "for token, count in suspected_affixes:\n",
        "  doc = nlp(token)\n",
        "  if doc.sentences[0].words[0].upos not in [\"NOUN\", \"VERB\", \"ADV\", \"ADJ\", \"DET\", \"NUM\"]:\n",
        "    suspected_non_words.append(token)\n",
        "\n",
        "# to finally remove unintended and pseudo words\n",
        "sorted_tokens = [(token, count) for token, count in sorted_tokens if token not in suspected_non_words]\n",
        "\n",
        "# to remove english words\n",
        "nltk.download('words')\n",
        "english_words = set(nltk.corpus.words.words())\n",
        "sorted_tokens = [(token, count) for token, count in sorted_tokens if token not in english_words]"
      ],
      "metadata": {
        "id": "8EkwxrNynjlv"
      },
      "execution_count": null,
      "outputs": []
    },
    {
      "cell_type": "code",
      "source": [
        "sorted_tokens[100:200]"
      ],
      "metadata": {
        "colab": {
          "base_uri": "https://localhost:8080/"
        },
        "id": "K0cNuRDq0-qD",
        "outputId": "e3b4c6ef-81a8-4bc4-a5ed-4e9c4d48dcce"
      },
      "execution_count": 79,
      "outputs": [
        {
          "output_type": "execute_result",
          "data": {
            "text/plain": [
              "[('eser', 1474),\n",
              " ('sonuç', 1468),\n",
              " ('sağlamak', 1464),\n",
              " ('girmek', 1464),\n",
              " ('küçük', 1462),\n",
              " ('yüksek', 1461),\n",
              " ('birlikte', 1445),\n",
              " ('oyuncu', 1441),\n",
              " ('su', 1436),\n",
              " ('kabul', 1410),\n",
              " ('ev', 1401),\n",
              " ('genel', 1382),\n",
              " ('fakat', 1367),\n",
              " ('sezon', 1364),\n",
              " ('sahipmek', 1352),\n",
              " ('değişmek', 1320),\n",
              " ('kaynak', 1315),\n",
              " ('uzun', 1312),\n",
              " ('dört', 1305),\n",
              " ('parti', 1301),\n",
              " ('karşı', 1300),\n",
              " ('kısa', 1297),\n",
              " ('rol', 1289),\n",
              " ('sahip', 1278),\n",
              " ('kişi', 1257),\n",
              " ('ayrılmak', 1253),\n",
              " ('sadece', 1248),\n",
              " ('insan', 1245),\n",
              " ('tek', 1242),\n",
              " ('baş', 1241),\n",
              " ('üye', 1211),\n",
              " ('mahalle', 1205),\n",
              " ('olay', 1198),\n",
              " ('kadın', 1196),\n",
              " ('seçmek', 1173),\n",
              " ('boyunca', 1163),\n",
              " ('iyi', 1162),\n",
              " ('kısım', 1160),\n",
              " ('üniversite', 1157),\n",
              " ('dil', 1144),\n",
              " ('fazla', 1141),\n",
              " ('açmak', 1139),\n",
              " ('kulüp', 1131),\n",
              " ('getirmek', 1124),\n",
              " ('özellik', 1123),\n",
              " ('anlam', 1122),\n",
              " ('kız', 1115),\n",
              " ('iş', 1114),\n",
              " ('taşımak', 1098),\n",
              " ('birlik', 1096),\n",
              " ('tanımak', 1092),\n",
              " ('çıkarmak', 1090),\n",
              " ('yüz', 1090),\n",
              " ('erkek', 1088),\n",
              " ('kariyer', 1085),\n",
              " ('gitmek', 1080),\n",
              " ('sanat', 1078),\n",
              " ('fakülte', 1075),\n",
              " ('hareket', 1074),\n",
              " ('parça', 1071),\n",
              " ('gerçekleşmek', 1066),\n",
              " ('pek', 1058),\n",
              " ('ödül', 1057),\n",
              " ('özel', 1054),\n",
              " ('geri', 1046),\n",
              " ('yakın', 1039),\n",
              " ('beş', 1035),\n",
              " ('üst', 1035),\n",
              " ('tiyatro', 1035),\n",
              " ('varmak', 1034),\n",
              " ('düzenlemek', 1011),\n",
              " ('yönetim', 1010),\n",
              " ('ardından', 1004),\n",
              " ('sınır', 995),\n",
              " ('böylece', 992),\n",
              " ('osmanlı', 984),\n",
              " ('köyün', 970),\n",
              " ('oldukça', 967),\n",
              " ('yayınlamak', 964),\n",
              " ('türkiye', 962),\n",
              " ('geçirmek', 959),\n",
              " ('söylemek', 957),\n",
              " ('ön', 941),\n",
              " ('başkan', 933),\n",
              " ('istemek', 933),\n",
              " ('atmak', 927),\n",
              " ('tamamlamak', 924),\n",
              " ('bağlı', 918),\n",
              " ('dönmek', 912),\n",
              " ('özellikle', 909),\n",
              " ('içeri', 904),\n",
              " ('nüfus', 902),\n",
              " ('bilim', 898),\n",
              " ('etki', 894),\n",
              " ('çevre', 894),\n",
              " ('şirket', 894),\n",
              " ('karar', 890),\n",
              " ('ada', 890),\n",
              " ('başkanlık', 888),\n",
              " ('bırakmak', 888)]"
            ]
          },
          "metadata": {},
          "execution_count": 79
        }
      ]
    },
    {
      "cell_type": "code",
      "source": [
        "\"\"\" I realized I need to filter the same words from the corpus too :D \"\"\"\n",
        "\n",
        "normal_corpus = [\n",
        "    [token for token in sentence if token not in suspected_non_words]\n",
        "    for sentence in normal_corpus\n",
        "]\n",
        "\n",
        "normal_corpus = [\n",
        "    [token for token in sentence if token.lower() not in english_words]\n",
        "    for sentence in normal_corpus\n",
        "]"
      ],
      "metadata": {
        "id": "LxZrJfbkxeLz"
      },
      "execution_count": 71,
      "outputs": []
    },
    {
      "cell_type": "code",
      "source": [
        "\"\"\" This code saves the lemma_corpus as pickle file. I preferred pickle way over built-in one since pickle keeps the sublist hierarchy. \"\"\"\n",
        "\n",
        "output_file = '/content/lemma_corpus.pkl'\n",
        "\n",
        "with open(output_file, 'wb') as file:\n",
        "    pickle.dump(normal_corpus, file)"
      ],
      "metadata": {
        "id": "epBAXfCobaoa"
      },
      "execution_count": 72,
      "outputs": []
    },
    {
      "cell_type": "code",
      "source": [
        "\"\"\" This code saves the sorted_lemmas \"\"\"\n",
        "\n",
        "output_file = '/content/sorted_lemmas.pkl'\n",
        "\n",
        "with open(output_file, \"wb\") as file:\n",
        "  pickle.dump(sorted_tokens, file)"
      ],
      "metadata": {
        "id": "ratJEoZUx_Km"
      },
      "execution_count": 73,
      "outputs": []
    },
    {
      "cell_type": "code",
      "source": [
        "\"\"\"\n",
        "Parameters for the word2vec model\n",
        "\"\"\"\n",
        "import multiprocessing\n",
        "\n",
        "# Set values for various parameters\n",
        "num_features = 300    # Word vector dimensionality                      \n",
        "min_word_count = 5   # Minimum word count                        \n",
        "num_workers = multiprocessing.cpu_count() # Number of threads to run in parallel\n",
        "context = 5          # Context window size                                                                                    \n",
        "downsampling = 1e-3   # Downsample setting for frequent words\n",
        "\n",
        "# Initialize and train the model (this will take some time)\n",
        "print(\"Training model...\")\n",
        "model_300 = word2vec.Word2Vec(normal_corpus,\n",
        "                          workers = num_workers,\n",
        "                          vector_size = num_features,\n",
        "                          min_count = min_word_count,\n",
        "                          window = context,\n",
        "                          sample = downsampling\n",
        "                          )\n",
        "\n",
        "model_300.save('wiki_tr.embedding_300') # to save the model"
      ],
      "metadata": {
        "colab": {
          "base_uri": "https://localhost:8080/"
        },
        "id": "CMJC4zrDXz9B",
        "outputId": "cebfd83e-9e35-4ab5-db8c-da3dc407d7dc"
      },
      "execution_count": 75,
      "outputs": [
        {
          "output_type": "stream",
          "name": "stdout",
          "text": [
            "Training model...\n"
          ]
        }
      ]
    },
    {
      "cell_type": "code",
      "source": [
        "# An instance of performance of the model\n",
        "\n",
        "word = \"inşa\"\n",
        "similar_words = model_300.wv.most_similar(word)\n",
        "\n",
        "print(f\"'{word}, için yakın kelimeler:':\")\n",
        "for word, similarity in similar_words:\n",
        "    print(f\"{word}: {similarity}\")"
      ],
      "metadata": {
        "colab": {
          "base_uri": "https://localhost:8080/"
        },
        "id": "I4m_hlKMiXOe",
        "outputId": "313996ea-d41d-49d4-d47d-550fac7f1ad6"
      },
      "execution_count": 76,
      "outputs": [
        {
          "output_type": "stream",
          "name": "stdout",
          "text": [
            "'inşa, için yakın kelimeler:':\n",
            "yıkmak: 0.7669280171394348\n",
            "tahrip: 0.747027575969696\n",
            "cami: 0.7105422019958496\n",
            "ikamet: 0.6941134333610535\n",
            "muhafaza: 0.6887609362602234\n",
            "manastır: 0.6842261552810669\n",
            "duvar: 0.6733037829399109\n",
            "intikal: 0.6651968955993652\n",
            "istil: 0.6639533638954163\n",
            "iskan: 0.6629056334495544\n"
          ]
        }
      ]
    },
    {
      "cell_type": "markdown",
      "source": [
        "The following two lines compare the tests of the model with a turkish model trained on the whole wikipedia."
      ],
      "metadata": {
        "id": "CWUCXgE6kdmG"
      }
    },
    {
      "cell_type": "code",
      "source": [
        "\" Scores from my model\"\n",
        "model_300.wv.most_similar(positive=['gotik'], topn = 5)"
      ],
      "metadata": {
        "colab": {
          "base_uri": "https://localhost:8080/"
        },
        "id": "qGIPni2qc2RE",
        "outputId": "de2e9bb5-154e-4944-db80-ef865bb26351"
      },
      "execution_count": 77,
      "outputs": [
        {
          "output_type": "execute_result",
          "data": {
            "text/plain": [
              "[('nouve', 0.9335101842880249),\n",
              " ('barok', 0.9225003123283386),\n",
              " ('romanesk', 0.9094896912574768),\n",
              " ('neoklasik', 0.9010088443756104),\n",
              " ('sözsüz', 0.8977640867233276)]"
            ]
          },
          "metadata": {},
          "execution_count": 77
        }
      ]
    },
    {
      "cell_type": "code",
      "source": [
        "\"\"\" Scores from the pre-trained turkish model \"\"\"\n",
        "#word_vectors.most_similar(positive=['gotik'], topn = 5)"
      ],
      "metadata": {
        "colab": {
          "base_uri": "https://localhost:8080/"
        },
        "id": "vrnvvcFTgWmw",
        "outputId": "8976275c-604d-43e0-d984-d39361cab357"
      },
      "execution_count": null,
      "outputs": [
        {
          "output_type": "execute_result",
          "data": {
            "text/plain": [
              "[('romanesk', 0.7867693305015564),\n",
              " ('barok', 0.7854798436164856),\n",
              " ('rokoko', 0.7268412113189697),\n",
              " ('stilinde', 0.6754747629165649),\n",
              " ('neoklasik', 0.6568185091018677)]"
            ]
          },
          "metadata": {},
          "execution_count": 30
        }
      ]
    }
  ]
}